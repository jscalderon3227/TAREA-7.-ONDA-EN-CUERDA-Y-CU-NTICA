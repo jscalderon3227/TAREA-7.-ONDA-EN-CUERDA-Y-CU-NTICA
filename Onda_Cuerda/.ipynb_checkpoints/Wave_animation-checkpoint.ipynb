{
 "metadata": {
  "name": "",
  "signature": "sha256:9554d0c44c7a37d77ce9c716173359e64f9af692f991435d985e9b9d6a89f5c6"
 },
 "nbformat": 3,
 "nbformat_minor": 0,
 "worksheets": [
  {
   "cells": [
    {
     "cell_type": "code",
     "collapsed": false,
     "input": [
      "%pylab\n",
      "import matplotlib.animation as animation\n",
      "from mpl_toolkits.mplot3d import Axes3D\n",
      "%ls"
     ],
     "language": "python",
     "metadata": {},
     "outputs": [
      {
       "output_type": "stream",
       "stream": "stdout",
       "text": [
        "Using matplotlib backend: TkAgg\n",
        "Populating the interactive namespace from numpy and matplotlib\n",
        "\u001b[0m\u001b[01;32ma.out\u001b[0m*  Make.mk  README.md  Wave_animation.ipynb  #Wave_animation.py#  Wave_animation.py  Wave_Eq.c  Wave_Eq.dat\r\n"
       ]
      }
     ],
     "prompt_number": 3
    },
    {
     "cell_type": "code",
     "collapsed": false,
     "input": [
      "data = loadtxt(\"Wave_Eq.dat\")\n",
      "data = data\n",
      "x_t = data\n",
      "#x_t = np.array([np.arange(len(data)),data])"
     ],
     "language": "python",
     "metadata": {},
     "outputs": [],
     "prompt_number": 4
    },
    {
     "cell_type": "code",
     "collapsed": false,
     "input": [
      "%pylab\n",
      "fig, ax = plt.subplots()\n",
      "\n",
      "# Selecciona los limites de la grafica\n",
      "limx = np.max(np.arange(len(x_t[0])),0)\n",
      "maxims = np.array([np.max(x_t[j],0) for j in range(len(x_t))])\n",
      "limy = np.max(maxims,0)\n",
      "\n",
      "y = x_t[0]        # x-array\n",
      "x = np.arange(len(x_t[0]))\n",
      "ax.set_ylim((-limy,limy))\n",
      "ax.set_xlim((0,limx))\n",
      "line, = ax.plot(x, y)\n",
      "\n",
      "def animate(i):\n",
      "    i = (i)%len(x_t)\n",
      "    line.set_ydata(x_t[i])  # update the data\n",
      "    return line,\n",
      "\n",
      "#Init only required for blitting to give a clean slate.\n",
      "def init():\n",
      "    line.set_ydata(np.ma.array(x, mask=True))\n",
      "    return line,\n",
      "\n",
      "ani = animation.FuncAnimation(fig, animate,  init_func=init,\n",
      "    interval= 1, frames = 4000, blit = True)\n",
      "plt.show()\n",
      "plt.close()"
     ],
     "language": "python",
     "metadata": {},
     "outputs": [
      {
       "output_type": "stream",
       "stream": "stdout",
       "text": [
        "Using matplotlib backend: TkAgg\n",
        "Populating the interactive namespace from numpy and matplotlib\n"
       ]
      }
     ],
     "prompt_number": 7
    },
    {
     "cell_type": "code",
     "collapsed": false,
     "input": [
      "%pylab inline\n",
      "# Para t = 350 como en el notebook de clase\n",
      "y = np.arange(len(x_t[0]))\n",
      "plot(y,x_t[-1])\n",
      "plot(y,x_t[0])"
     ],
     "language": "python",
     "metadata": {},
     "outputs": [
      {
       "output_type": "stream",
       "stream": "stdout",
       "text": [
        "Populating the interactive namespace from numpy and matplotlib\n"
       ]
      },
      {
       "metadata": {},
       "output_type": "pyout",
       "prompt_number": 27,
       "text": [
        "[<matplotlib.lines.Line2D at 0x51aeb10>]"
       ]
      },
      {
       "metadata": {},
       "output_type": "display_data",
       "png": "[encoded data removed]",
       "text": [
        "<matplotlib.figure.Figure at 0x4213550>"
       ]
      }
     ],
     "prompt_number": 27
    },
    {
     "cell_type": "code",
     "collapsed": false,
     "input": [],
     "language": "python",
     "metadata": {},
     "outputs": []
    }
   ],
   "metadata": {}
  }
 ]
}